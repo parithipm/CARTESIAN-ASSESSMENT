{
  "nbformat": 4,
  "nbformat_minor": 0,
  "metadata": {
    "colab": {
      "name": "CARTESIAN ASSESSMENT",
      "provenance": [],
      "collapsed_sections": [],
      "toc_visible": true
    },
    "kernelspec": {
      "name": "python3",
      "display_name": "Python 3"
    },
    "language_info": {
      "name": "python"
    }
  },
  "cells": [
    {
      "cell_type": "markdown",
      "source": [
        "Cartesian Assessment\n",
        "QUESTION 1\n"
      ],
      "metadata": {
        "id": "3JvMNU75Ecbw"
      }
    },
    {
      "cell_type": "code",
      "source": [
        "str=input()\n",
        "def wordReverse(str):\n",
        "    i = len(str)-1\n",
        "    start = end = i+1\n",
        "    result = ''\n",
        " \n",
        "    while i >= 0:\n",
        "        if str[i] == ' ':\n",
        "            start = i+1\n",
        "            while start != end:\n",
        "                result += str[start]\n",
        "                start += 1\n",
        "            result += ' '\n",
        "            end = i\n",
        "        i -= 1\n",
        "    start = 0\n",
        "    while start != end:\n",
        "        result += str[start]\n",
        "        start += 1\n",
        "    return result\n",
        " \n",
        " \n",
        "b=wordReverse(str)\n",
        "print(b)\n",
        "a=b.lower()\n",
        "p= a.split(' ')\n",
        "result = {}    \n",
        "for p1 in p:                                                                                                                                                                                               \n",
        "    result[p1] = result.get(p1, 0) + 1  \n",
        "print(result[p1])\n",
        "def sort_dict_by_value(d, reverse = False):\n",
        "  return dict(sorted(result.items(), key = lambda x: x[1], reverse = reverse))\n",
        "di=sort_dict_by_value(result[p1], True)\n",
        "print(di)\n",
        "list(di.items())[:2]"
      ],
      "metadata": {
        "id": "GwY2oLoy88ek",
        "colab": {
          "base_uri": "https://localhost:8080/"
        },
        "outputId": "8df94661-1723-4dd4-a007-9b95344da58e"
      },
      "execution_count": 1,
      "outputs": [
        {
          "output_type": "stream",
          "name": "stdout",
          "text": [
            "&quot;This declaration represents a political commitment among declaration partners to advance a positive vision for the Internet in this era of a united europe&quot;\n",
            "europe&quot; united a of era this in Internet the for vision positive a advance to partners declaration among commitment political a represents declaration &quot;This\n",
            "1\n",
            "{'a': 3, 'declaration': 2, 'europe&quot;': 1, 'united': 1, 'of': 1, 'era': 1, 'this': 1, 'in': 1, 'internet': 1, 'the': 1, 'for': 1, 'vision': 1, 'positive': 1, 'advance': 1, 'to': 1, 'partners': 1, 'among': 1, 'commitment': 1, 'political': 1, 'represents': 1, '&quot;this': 1}\n"
          ]
        },
        {
          "output_type": "execute_result",
          "data": {
            "text/plain": [
              "[('a', 3), ('declaration', 2)]"
            ]
          },
          "metadata": {},
          "execution_count": 1
        }
      ]
    },
    {
      "cell_type": "code",
      "source": [],
      "metadata": {
        "id": "4-ZLZKNpDxtk"
      },
      "execution_count": null,
      "outputs": []
    }
  ]
}